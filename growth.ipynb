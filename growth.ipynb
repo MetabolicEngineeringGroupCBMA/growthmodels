{
 "cells": [
  {
   "cell_type": "markdown",
   "metadata": {},
   "source": [
    "\n",
    "\n",
    "https://www.ncbi.nlm.nih.gov/pubmed/16348228\n",
    "\n",
    "\n",
    "$$\\ X = X_0 e^{µ_{max} t}$$\n",
    "\n",
    "Where:\n",
    "- X is biomass at time t (h)\n",
    "- X0 is biomass at time 0\n",
    "- µmax is the maximum specific growth rate (h-1)\n",
    "\n",
    "\n",
    "![](calc.png)"
   ]
  },
  {
   "cell_type": "code",
   "execution_count": 19,
   "metadata": {},
   "outputs": [],
   "source": [
    "from datetime import timedelta\n",
    "import numpy as np\n",
    "from scipy.optimize import curve_fit\n",
    "import matplotlib.pyplot as plt\n",
    "import dateparser"
   ]
  },
  {
   "cell_type": "code",
   "execution_count": 2,
   "metadata": {},
   "outputs": [],
   "source": [
    "def exp_growth(t, X0, µmax):\n",
    "    # X0 initial OD600 or OD640 value\n",
    "    # t = time (h)\n",
    "    # mumax maximum growth rate (1/h)\n",
    "    return X0 * np.exp(µmax * t)"
   ]
  },
  {
   "cell_type": "code",
   "execution_count": 3,
   "metadata": {},
   "outputs": [],
   "source": [
    "def inv_exp_growth(X, X0, µmax):\n",
    "    # X0 initial OD600 or OD640 value\n",
    "    # t = time (h)\n",
    "    # mumax maximum growth rate (1/h)\n",
    "    return np.log(X/X0)/µmax"
   ]
  },
  {
   "cell_type": "code",
   "execution_count": 4,
   "metadata": {},
   "outputs": [],
   "source": [
    "timepoints = \"\"\"\n",
    "13:00:00\n",
    "17:22:00\n",
    "18:40:00\n",
    "\"\"\"\n",
    "\n",
    "OD = \"\"\"\n",
    "0.208\n",
    "0.610\n",
    "0.8403\n",
    "\"\"\""
   ]
  },
  {
   "cell_type": "code",
   "execution_count": 5,
   "metadata": {},
   "outputs": [],
   "source": [
    "times = [dateparser.parse(t) for t in timepoints.split()]\n",
    "timezero = times[0]\n",
    "tdeltas = [(t - timezero).seconds/3600 for t in times]"
   ]
  },
  {
   "cell_type": "code",
   "execution_count": 6,
   "metadata": {},
   "outputs": [],
   "source": [
    "x_data = np.array(tdeltas)\n",
    "y_data = np.array(OD.split(), dtype='f')"
   ]
  },
  {
   "cell_type": "code",
   "execution_count": 7,
   "metadata": {},
   "outputs": [
    {
     "name": "stdout",
     "output_type": "stream",
     "text": [
      "[(0.0, 0.208), (4.366666666666666, 0.61), (5.666666666666667, 0.8403)]\n"
     ]
    }
   ],
   "source": [
    "print(list(zip(x_data,y_data)))"
   ]
  },
  {
   "cell_type": "code",
   "execution_count": 8,
   "metadata": {},
   "outputs": [],
   "source": [
    "popt, pcov = curve_fit(exp_growth, \n",
    "                       x_data, \n",
    "                       y_data,\n",
    "                       bounds=([0.0, 0.0], [1.0, 1.0]))"
   ]
  },
  {
   "cell_type": "code",
   "execution_count": 9,
   "metadata": {},
   "outputs": [],
   "source": [
    "x_sim = np.arange(x_data[0], x_data[-1], (x_data[-1]-x_data[0])/100)\n",
    "y_sim = exp_growth( x_sim , *popt)"
   ]
  },
  {
   "cell_type": "code",
   "execution_count": 10,
   "metadata": {},
   "outputs": [
    {
     "data": {
      "image/png": "[encoded data removed]",
      "text/plain": [
       "<Figure size 432x288 with 1 Axes>"
      ]
     },
     "metadata": {
      "needs_background": "light"
     },
     "output_type": "display_data"
    }
   ],
   "source": [
    "points     = plt.plot(x_data, y_data, 'x', color='xkcd:maroon', label = \"data\")\n",
    "\n",
    "\n",
    "regression = plt.plot(x_sim, y_sim, color='xkcd:teal', \n",
    "                      label = \"X0 = {:.3f} \\n µmax = {:.3f} h-1\".format(*popt))\n",
    "\n",
    "\n",
    "plt.legend()\n",
    "plt.show()"
   ]
  },
  {
   "cell_type": "code",
   "execution_count": 34,
   "metadata": {},
   "outputs": [
    {
     "name": "stdout",
     "output_type": "stream",
     "text": [
      "18:37:34\n"
     ]
    }
   ],
   "source": [
    "print(( timezero + timedelta( hours = inv_exp_growth(y_data[0] * 2 *2, *popt) ) ).strftime(\"%H:%M:%S\"))"
   ]
  }
 ],
 "metadata": {
  "anaconda-cloud": {},
  "kernelspec": {
   "display_name": "Python [conda env:bjorn37]",
   "language": "python",
   "name": "conda-env-bjorn37-py"
  },
  "language_info": {
   "codemirror_mode": {
    "name": "ipython",
    "version": 3
   },
   "file_extension": ".py",
   "mimetype": "text/x-python",
   "name": "python",
   "nbconvert_exporter": "python",
   "pygments_lexer": "ipython3",
   "version": "3.7.3"
  }
 },
 "nbformat": 4,
 "nbformat_minor": 4
}
